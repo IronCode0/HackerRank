{
 "cells": [
  {
   "cell_type": "code",
   "execution_count": 1,
   "metadata": {
    "vscode": {
     "languageId": "r"
    }
   },
   "outputs": [
    {
     "name": "stdout",
     "output_type": "stream",
     "text": [
      "[1] \"dfggr\"\n",
      "[1] 4 5 8\n",
      "[1] 7 8 9\n"
     ]
    }
   ],
   "source": [
    "print(\"dfggr\")\n",
    "a <- c(4,5,8)\n",
    "b <- c(7,8,9)\n",
    "print(a)\n",
    "print(b)"
   ]
  },
  {
   "cell_type": "code",
   "execution_count": 3,
   "metadata": {
    "vscode": {
     "languageId": "r"
    }
   },
   "outputs": [
    {
     "data": {
      "image/png": "[encoded data removed]",
      "text/plain": [
       "plot without title"
      ]
     },
     "metadata": {
      "image/png": {
       "height": 420,
       "width": 420
      }
     },
     "output_type": "display_data"
    }
   ],
   "source": [
    "# Create data for the graph.\n",
    "x <- c(21, 62, 10, 53)\n",
    "labels <- c(\"Japan\", \"New York\", \"Singapore\", \"Mumbai\")\n",
    "\n",
    "# Give the chart file a name.\n",
    "# png(file = \"city.png\")\n",
    "\n",
    "# Plot the chart.\n",
    "pie(x,labels)\n",
    "\n",
    "# Save the file.\n",
    "# dev.off()"
   ]
  },
  {
   "cell_type": "code",
   "execution_count": 2,
   "metadata": {
    "vscode": {
     "languageId": "r"
    }
   },
   "outputs": [
    {
     "name": "stdout",
     "output_type": "stream",
     "text": [
      "     [,1] [,2] [,3]\n",
      "[1,]    4    5    6\n",
      "[2,]    7    8    9\n"
     ]
    }
   ],
   "source": [
    "z = matrix(\n",
    "    c(4,5,6,7,8,9),nrow=2,ncol=3,byrow=TRUE\n",
    "    )\n",
    "print(z)\n",
    "matrix(\n",
    "    \n",
    "\n",
    ")"
   ]
  },
  {
   "cell_type": "code",
   "execution_count": 4,
   "metadata": {
    "vscode": {
     "languageId": "r"
    }
   },
   "outputs": [
    {
     "name": "stdout",
     "output_type": "stream",
     "text": [
      "[1] a c a\n",
      "Levels: a c\n"
     ]
    }
   ],
   "source": [
    "fac = factor(c(\"a\",\"c\",\"a\"))\n",
    "print(fac)"
   ]
  },
  {
   "cell_type": "code",
   "execution_count": null,
   "metadata": {
    "vscode": {
     "languageId": "r"
    }
   },
   "outputs": [],
   "source": []
  }
 ],
 "metadata": {
  "kernelspec": {
   "display_name": "R",
   "language": "R",
   "name": "ir"
  },
  "language_info": {
   "codemirror_mode": "r",
   "file_extension": ".r",
   "mimetype": "text/x-r-source",
   "name": "R",
   "pygments_lexer": "r",
   "version": "4.2.0"
  },
  "vscode": {
   "interpreter": {
    "hash": "5fe27231fe2ef1d38017a65482f94e9b5209ec85932d25724d84ecd1b3a19fa4"
   }
  }
 },
 "nbformat": 4,
 "nbformat_minor": 4
}

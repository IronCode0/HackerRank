{
 "cells": [
  {
   "cell_type": "code",
   "execution_count": 4,
   "metadata": {},
   "outputs": [
    {
     "name": "stdout",
     "output_type": "stream",
     "text": [
      "1\n"
     ]
    }
   ],
   "source": [
    "j =int(5/3)\n",
    "print(j)"
   ]
  },
  {
   "cell_type": "code",
   "execution_count": 17,
   "metadata": {},
   "outputs": [],
   "source": [
    "import os\n",
    "os.system(\"pip install tabulate\")\n",
    "import tabulate"
   ]
  },
  {
   "cell_type": "code",
   "execution_count": 26,
   "metadata": {},
   "outputs": [],
   "source": [
    "from tabulate import tabulate\n",
    "v =[]\n",
    "t=[]\n",
    "a = open(\"testfile.csv\",\"r\")\n",
    "for line in a:\n",
    "    t=[]\n",
    "    for b in line.split(\",\",4):\n",
    "        t.append(b.removeprefix('\" ').removesuffix(' \"\\n'))\n",
    "    v.append(t)\n",
    "#print(tabulate(v[1:], headers=v[0], tablefmt=\"grid\"))"
   ]
  },
  {
   "cell_type": "code",
   "execution_count": 3,
   "metadata": {},
   "outputs": [],
   "source": [
    "from tabulate import tabulate\n",
    "v =[]\n",
    "t=[]\n",
    "a = open(\"testfile.csv\",\"r\")\n",
    "for line in a:\n",
    "    t=[]\n",
    "    for b in line.split(\",\",4):\n",
    "        t.append(b.removeprefix('\" ').removesuffix('\\n').removesuffix(' \"'))\n",
    "    v.append(t)\n",
    "#print(tabulate(v[1:], headers=v[0], tablefmt=\"plain\"))"
   ]
  },
  {
   "cell_type": "code",
   "execution_count": 8,
   "metadata": {},
   "outputs": [
    {
     "name": "stdout",
     "output_type": "stream",
     "text": [
      "a\n"
     ]
    }
   ],
   "source": [
    "a =20\n",
    "b =15\n",
    "print('a') if a > b else print('b')\n"
   ]
  },
  {
   "cell_type": "code",
   "execution_count": 9,
   "metadata": {},
   "outputs": [
    {
     "data": {
      "text/html": [
       "<h1>Hello World</h1>"
      ],
      "text/plain": [
       "Hello World"
      ]
     },
     "metadata": {},
     "output_type": "display_data"
    }
   ],
   "source": [
    "from IPython.display import display\n",
    "display({'text/html': '<h1>Hello World</h1>', 'text/plain': 'Hello World'}, raw=True)"
   ]
  },
  {
   "cell_type": "code",
   "execution_count": 18,
   "metadata": {},
   "outputs": [
    {
     "name": "stdout",
     "output_type": "stream",
     "text": [
      "123"
     ]
    }
   ],
   "source": [
    "i =1\n",
    "while i  < 5:\n",
    "    print(i,end=\"\")\n",
    "    if (i == 3): break\n",
    "    i +=1\n",
    "        "
   ]
  },
  {
   "cell_type": "markdown",
   "metadata": {
    "tags": []
   },
   "source": [
    "# Foobar\n",
    "\n",
    "Foobar is a Python library for dealing with word pluralization.\n",
    "\n",
    "## Installation\n",
    "\n",
    "Use the package manager [pip](https://pip.pypa.io/en/stable/) to install foobar.\n",
    "\n",
    "```bash\n",
    "pip install foobar\n",
    "```\n",
    "\n",
    "## Usage\n",
    "\n",
    "```python\n",
    "import foobar\n",
    "\n",
    "# returns 'words'\n",
    "foobar.pluralize('word')\n",
    "\n",
    "# returns 'geese'\n",
    "foobar.pluralize('goose')\n",
    "\n",
    "# returns 'phenomenon'\n",
    "foobar.singularize('phenomena')\n",
    "```\n",
    "\n",
    "## Contributing\n",
    "Pull requests are welcome. For major changes, please open an issue first to discuss what you would like to change.\n",
    "\n",
    "Please make sure to update tests as appropriate.\n",
    "\n",
    "## License\n",
    "[MIT](https://choosealicense.com/licenses/mit/)"
   ]
  },
  {
   "cell_type": "code",
   "execution_count": 31,
   "metadata": {},
   "outputs": [
    {
     "name": "stdout",
     "output_type": "stream",
     "text": [
      "{1: 'ff', 4: 'fgver'}\n",
      "{1: 'ff', 4: 'fgver', 2: 'ssrg'}\n"
     ]
    }
   ],
   "source": [
    "a = {1: \"ff\", 4: \"fgver\"}\n",
    "print(a)\n",
    "a[2]= \"ssrg\"\n",
    "print(a)"
   ]
  },
  {
   "cell_type": "code",
   "execution_count": 62,
   "metadata": {},
   "outputs": [
    {
     "ename": "SyntaxError",
     "evalue": "invalid syntax (<ipython-input-62-5349db95c064>, line 1)",
     "output_type": "error",
     "traceback": [
      "\u001b[1;36m  File \u001b[1;32m\"<ipython-input-62-5349db95c064>\"\u001b[1;36m, line \u001b[1;32m1\u001b[0m\n\u001b[1;33m    b = filter(lambda x : x%2 == 0,[z for z%2 ==0 in range(1,100)])\u001b[0m\n\u001b[1;37m                                                                 ^\u001b[0m\n\u001b[1;31mSyntaxError\u001b[0m\u001b[1;31m:\u001b[0m invalid syntax\n"
     ]
    }
   ],
   "source": [
    "b = filter(lambda x : x%2 == 0,[z for z%2 ==0 in range(1,100)])\n",
    "print(*b)\n"
   ]
  },
  {
   "cell_type": "code",
   "execution_count": 65,
   "metadata": {},
   "outputs": [
    {
     "ename": "SyntaxError",
     "evalue": "invalid syntax (<ipython-input-65-de4fdcdc498f>, line 1)",
     "output_type": "error",
     "traceback": [
      "\u001b[1;36m  File \u001b[1;32m\"<ipython-input-65-de4fdcdc498f>\"\u001b[1;36m, line \u001b[1;32m1\u001b[0m\n\u001b[1;33m    z for z%2 ==0 and in range(1,100)\u001b[0m\n\u001b[1;37m      ^\u001b[0m\n\u001b[1;31mSyntaxError\u001b[0m\u001b[1;31m:\u001b[0m invalid syntax\n"
     ]
    }
   ],
   "source": [
    "z for z%2 ==0 and in range(1,100)"
   ]
  },
  {
   "cell_type": "code",
   "execution_count": null,
   "metadata": {},
   "outputs": [],
   "source": []
  }
 ],
 "metadata": {
  "kernelspec": {
   "display_name": "Python 3",
   "language": "python",
   "name": "python3"
  },
  "language_info": {
   "codemirror_mode": {
    "name": "ipython",
    "version": 3
   },
   "file_extension": ".py",
   "mimetype": "text/x-python",
   "name": "python",
   "nbconvert_exporter": "python",
   "pygments_lexer": "ipython3",
   "version": "3.9.2"
  },
  "vscode": {
   "interpreter": {
    "hash": "5fe27231fe2ef1d38017a65482f94e9b5209ec85932d25724d84ecd1b3a19fa4"
   }
  }
 },
 "nbformat": 4,
 "nbformat_minor": 4
}

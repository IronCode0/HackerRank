{
 "cells": [
  {
   "cell_type": "markdown",
   "metadata": {},
   "source": [
    "# Index\n",
    "- Iris\n",
    "- Pearson\n",
    "    - correlation\n",
    "    - chi2\n",
    "    - features\n",
    "- Wrapper"
   ]
  },
  {
   "cell_type": "markdown",
   "metadata": {},
   "source": [
    "# Iris"
   ]
  },
  {
   "cell_type": "code",
   "execution_count": 8,
   "metadata": {},
   "outputs": [],
   "source": [
    "from sklearn import svm\n",
    "from sklearn import datasets\n",
    "from sklearn.model_selection import train_test_split\n",
    "from sklearn.metrics import accuracy_score\n",
    "\n",
    "iris = datasets.load_iris()\n",
    "# iris.data\n",
    "# iris.feature_names\n",
    "# iris.target\n",
    "x = iris.data[:,2]\n",
    "y = iris.target\n",
    "\n",
    "x_train,x_test,y_train,y_test = train_test_split(x,y,test_size=0.2, random_state=5)\n",
    "\n",
    "x_train_mod = x_train.reshape(-1,1)\n",
    "x_test_mod  = x_test.reshape(-1,1)\n",
    "y_train_mod = y_train.reshape(-1,1)\n",
    "y_test_mod  = y_test.reshape(-1,1)\n",
    "\n",
    "model = svm.SVC(kernel='linear')\n",
    "model.fit(x_train_mod,y_train_mod)\n",
    "\n",
    "y_pred_mod = model.predict(x_test_mod)\n",
    "accuracy = accuracy_score(y_test_mod,y_pred_mod)\n",
    "print(accuracy)"
   ]
  },
  {
   "cell_type": "markdown",
   "metadata": {},
   "source": [
    "# Pearson"
   ]
  },
  {
   "cell_type": "code",
   "execution_count": null,
   "metadata": {},
   "outputs": [],
   "source": [
    "from numpy.random import randn\n",
    "from numpy.random import seed\n",
    "from scipy.stats import pearsonr\n",
    "\n",
    "seed(1)\n",
    "data1 = 20 * randn(1000) + 10\n",
    "data2 = data1 + (10 * randn(1000) + 50)\n",
    "\n",
    "corr,_ = pearsonr(data1,data2)\n",
    "print('pearsons correlation: %.3f' % corr)"
   ]
  },
  {
   "cell_type": "code",
   "execution_count": null,
   "metadata": {},
   "outputs": [],
   "source": [
    "from sklearn.datasets import load_wine\n",
    "from sklearn.feature_selection import chi2\n",
    "from sklearn.feature_selection  import SelectKBest\n",
    "\n",
    "x,y=load_wine(return_X_y=True)\n",
    "fselect=int(input(\"Enter Number of feature to be selected: \"))\n",
    "\n",
    "test = SelectKBest(score_func=chi2,k=fselect)\n",
    "fit = test.fit(x,y)\n",
    "print(fit.scores_)"
   ]
  },
  {
   "cell_type": "code",
   "execution_count": null,
   "metadata": {},
   "outputs": [],
   "source": [
    "from sklearn.datasets import load_boston\n",
    "import pandas as pd\n",
    "\n",
    "boston_bunch = load_boston()\n",
    "df = pd.DataFrame(data = boston_bunch.data, columns=boston_bunch.feature_names)\n",
    "\n",
    "# adding the target variable\n",
    "df[\"target\"] = boston_bunch.target\n",
    "\n",
    "# pearson correlation coefficient\n",
    "corr = df.corr()[\"target\"].sort_values(ascending=False)[1:]\n",
    "\n",
    "# absolute for positive values\n",
    "abs_corr = abs(corr)\n",
    "\n",
    "# random threshold for features to keep\n",
    "relevant_features = abs_corr[abs_corr>0.4]\n",
    "print(relevant_features)\n",
    "\n",
    "# select the input features as follows\n",
    "new_df = df[relevant_features.index]\n",
    "print(new_df)\n"
   ]
  },
  {
   "cell_type": "markdown",
   "metadata": {},
   "source": [
    "# Wrapper"
   ]
  },
  {
   "cell_type": "code",
   "execution_count": null,
   "metadata": {},
   "outputs": [],
   "source": [
    "import pandas as pd\n",
    "import numpy as np\n",
    "from sklearn.model_selection import train_test_split\n",
    "from sklearn.ensemble import RandomForestClassifier\n",
    "from mlxtend.feature_selection import SequentialFeatureSelector\n",
    "from sklearn.metrics import accuracy_score\n",
    "\n",
    "df=pd.read_csv(\"..\\\\datasets\\\\winequality-white.csv\", sep=';')\n",
    "x_train,x_test,y_train,y_test = train_test_split(df.values[:,:-1],df.values[:,-1:],test_size=0.20,random_state=1)\n",
    "\n",
    "print(x_train.shape,x_test.shape,y_train.shape,y_test.shape,sep=\"\\n\")\n",
    "print(np.mean(x_train),np.mean(x_test),np.mean(y_train),np.mean(y_test),sep=\"\\n\")\n",
    "\n",
    "y_train=y_train.ravel()\n",
    "t_test=y_test.ravel()\n",
    "\n",
    "cl=RandomForestClassifier(n_estimators=100, n_jobs=-1)\n",
    "ofs1=SequentialFeatureSelector(cl,k_features='best',forward=True,floating=False,verbose=2)\n",
    "\n",
    "ofs=ofs1.fit(x_train,y_train)\n",
    "fsel=list(ofs.k_feature_idx_)\n",
    "print(fsel)\n",
    "\n",
    "cl=RandomForestClassifier(n_estimators=100, n_jobs=-1)\n",
    "cl.fit(x_train[:,fsel],y_train)\n",
    "\n",
    "y_pred=cl.predict(x_train[:,fsel])\n",
    "print(\"accuracy=\",accuracy_score(y_train,y_pred))\n",
    "\n",
    "cl=RandomForestClassifier(n_estimators=100,n_jobs=-1)\n",
    "cl.fit(x_train,y_train)"
   ]
  },
  {
   "cell_type": "markdown",
   "metadata": {},
   "source": [
    "# TEMP"
   ]
  },
  {
   "cell_type": "code",
   "execution_count": null,
   "metadata": {},
   "outputs": [],
   "source": []
  }
 ],
 "metadata": {
  "kernelspec": {
   "display_name": "Python 3.9.2 64-bit",
   "language": "python",
   "name": "python3"
  },
  "language_info": {
   "codemirror_mode": {
    "name": "ipython",
    "version": 3
   },
   "file_extension": ".py",
   "mimetype": "text/x-python",
   "name": "python",
   "nbconvert_exporter": "python",
   "pygments_lexer": "ipython3",
   "version": "3.9.2"
  },
  "orig_nbformat": 4,
  "vscode": {
   "interpreter": {
    "hash": "5fe27231fe2ef1d38017a65482f94e9b5209ec85932d25724d84ecd1b3a19fa4"
   }
  }
 },
 "nbformat": 4,
 "nbformat_minor": 2
}

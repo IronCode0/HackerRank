{
 "cells": [
  {
   "cell_type": "code",
   "execution_count": 1,
   "metadata": {},
   "outputs": [],
   "source": [
    "import pandas as pd\n",
    "import numpy as np\n",
    "from sklearn.model_selection import train_test_split\n",
    "from sklearn.ensemble import RandomForestClassifier\n",
    "from mlxtend.feature_selection import SequentialFeatureSelector as sf\n",
    "from sklearn.metrics import accuracy_score as acc"
   ]
  },
  {
   "cell_type": "code",
   "execution_count": null,
   "metadata": {},
   "outputs": [],
   "source": [
    "df=pd.read_csv(\"..\\\\files\\\\winequality-white.csv\", sep=';')\n",
    "x_train,x_test,y_train,y_test = train_test_split(df.values[:,:-1],df.values[:,-1:],test_size=0.20,random_state=1)\n",
    "\n",
    "print(x_train.shape,x_test.shape,y_train.shape,y_test.shape,sep=\"\\n\")\n",
    "print(np.mean(x_train),np.mean(x_test),np.mean(y_train),np.mean(y_test),sep=\"\\n\")"
   ]
  },
  {
   "cell_type": "code",
   "execution_count": null,
   "metadata": {},
   "outputs": [],
   "source": [
    "y_train=y_train.ravel()\n",
    "t_test=y_test.ravel()\n",
    "\n",
    "cl=RandomForestClassifier(n_estimators=100, n_jobs=-1)\n",
    "#ofs1=sf(cl,forward=True,floating=False,verbose=2,scoring=1)\n",
    "ofs1=sf(cl,k_features='best',forward=True,floating=False,verbose=2)\n",
    "\n",
    "ofs=ofs1.fit(x_train,y_train)\n",
    "fsel=list(ofs.k_feature_idx_)\n",
    "print(fsel)\n",
    "\n",
    "cl=RandomForestClassifier(n_estimators=100, n_jobs=-1)\n",
    "cl.fit(x_train[:,fsel],y_train)\n",
    "\n",
    "y_pred=cl.predict(x_train[:,fsel])\n",
    "print(\"accuracy=\",acc(y_train,y_pred))\n",
    "\n",
    "cl=RandomForestClassifier(n_estimators=100,n_jobs=-1)\n",
    "cl.fit(x_train,y_train)\n",
    "\n"
   ]
  },
  {
   "cell_type": "code",
   "execution_count": null,
   "metadata": {},
   "outputs": [],
   "source": [
    "\n"
   ]
  }
 ],
 "metadata": {
  "kernelspec": {
   "display_name": "Python 3",
   "language": "python",
   "name": "python3"
  },
  "language_info": {
   "codemirror_mode": {
    "name": "ipython",
    "version": 3
   },
   "file_extension": ".py",
   "mimetype": "text/x-python",
   "name": "python",
   "nbconvert_exporter": "python",
   "pygments_lexer": "ipython3",
   "version": "3.9.2"
  },
  "vscode": {
   "interpreter": {
    "hash": "5fe27231fe2ef1d38017a65482f94e9b5209ec85932d25724d84ecd1b3a19fa4"
   }
  }
 },
 "nbformat": 4,
 "nbformat_minor": 4
}

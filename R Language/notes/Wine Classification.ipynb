{
 "cells": [
  {
   "cell_type": "markdown",
   "metadata": {},
   "source": [
    "# Wine Classification"
   ]
  },
  {
   "cell_type": "code",
   "execution_count": 1,
   "metadata": {},
   "outputs": [],
   "source": [
    "import pandas as pd\n",
    "import numpy as np\n",
    "from sklearn.model_selection import train_test_split\n",
    "from sklearn.preprocessing import StandardScaler\n",
    "import matplotlib.pyplot as plt\n",
    "import seaborn as sns\n",
    "\n",
    "df=pd.read_csv(\"..\\\\datasets\\\\winequality-red.csv\", sep=';')\n",
    "#df.head()\n",
    "#df.dtypes\n",
    "\n",
    "df['goodquality'] = [1 if x>=6 else 0 for x in df['quality'] ]\n",
    "x = df.drop(['quality','goodquality'],axis = 1)\n",
    "y = df['goodquality']\n"
   ]
  },
  {
   "cell_type": "code",
   "execution_count": 2,
   "metadata": {},
   "outputs": [
    {
     "data": {
      "image/png": "[encoded data removed]",
      "text/plain": [
       "<Figure size 576x432 with 1 Axes>"
      ]
     },
     "metadata": {
      "needs_background": "light"
     },
     "output_type": "display_data"
    }
   ],
   "source": [
    "\n",
    "# Normalize feature variables\n",
    "x_features = x\n",
    "x = StandardScaler().fit_transform(x)\n",
    "df['goodquality'].value_counts()\n",
    "\n",
    "plt.figure(figsize=(8,6))\n",
    "plt.title('Distribution of good wine',size=15)\n",
    "sns.countplot(x=df['goodquality'])\n",
    "target_count = df.goodquality.value_counts()\n",
    "plt.annotate(text=target_count[0], xy=( -0.04,10+target_count[0]),size=14)\n",
    "plt.annotate(text=target_count[1], xy=(  0.96,10+target_count[1]),size=14)\n",
    "plt.ylim(0,900)\n",
    "plt.show()\n"
   ]
  },
  {
   "cell_type": "code",
   "execution_count": 3,
   "metadata": {},
   "outputs": [
    {
     "name": "stdout",
     "output_type": "stream",
     "text": [
      "                      fixed acidity  volatile acidity  citric acid  \\\n",
      "fixed acidity              1.000000         -0.256131     0.671703   \n",
      "volatile acidity          -0.256131          1.000000    -0.552496   \n",
      "citric acid                0.671703         -0.552496     1.000000   \n",
      "residual sugar             0.114777          0.001918     0.143577   \n",
      "chlorides                  0.093705          0.061298     0.203823   \n",
      "free sulfur dioxide       -0.153794         -0.010504    -0.060978   \n",
      "total sulfur dioxide      -0.113181          0.076470     0.035533   \n",
      "density                    0.668047          0.022026     0.364947   \n",
      "pH                        -0.682978          0.234937    -0.541904   \n",
      "sulphates                  0.183006         -0.260987     0.312770   \n",
      "alcohol                   -0.061668         -0.202288     0.109903   \n",
      "quality                    0.124052         -0.390558     0.226373   \n",
      "goodquality                0.095093         -0.321441     0.159129   \n",
      "\n",
      "                      residual sugar  chlorides  free sulfur dioxide  \\\n",
      "fixed acidity               0.114777   0.093705            -0.153794   \n",
      "volatile acidity            0.001918   0.061298            -0.010504   \n",
      "citric acid                 0.143577   0.203823            -0.060978   \n",
      "residual sugar              1.000000   0.055610             0.187049   \n",
      "chlorides                   0.055610   1.000000             0.005562   \n",
      "free sulfur dioxide         0.187049   0.005562             1.000000   \n",
      "total sulfur dioxide        0.203028   0.047400             0.667666   \n",
      "density                     0.355283   0.200632            -0.021946   \n",
      "pH                         -0.085652  -0.265026             0.070377   \n",
      "sulphates                   0.005527   0.371260             0.051658   \n",
      "alcohol                     0.042075  -0.221141            -0.069408   \n",
      "quality                     0.013732  -0.128907            -0.050656   \n",
      "goodquality                -0.002160  -0.109494            -0.061757   \n",
      "\n",
      "                      total sulfur dioxide   density        pH  sulphates  \\\n",
      "fixed acidity                    -0.113181  0.668047 -0.682978   0.183006   \n",
      "volatile acidity                  0.076470  0.022026  0.234937  -0.260987   \n",
      "citric acid                       0.035533  0.364947 -0.541904   0.312770   \n",
      "residual sugar                    0.203028  0.355283 -0.085652   0.005527   \n",
      "chlorides                         0.047400  0.200632 -0.265026   0.371260   \n",
      "free sulfur dioxide               0.667666 -0.021946  0.070377   0.051658   \n",
      "total sulfur dioxide              1.000000  0.071269 -0.066495   0.042947   \n",
      "density                           0.071269  1.000000 -0.341699   0.148506   \n",
      "pH                               -0.066495 -0.341699  1.000000  -0.196648   \n",
      "sulphates                         0.042947  0.148506 -0.196648   1.000000   \n",
      "alcohol                          -0.205654 -0.496180  0.205633   0.093595   \n",
      "quality                          -0.185100 -0.174919 -0.057731   0.251397   \n",
      "goodquality                      -0.231963 -0.159110 -0.003264   0.218072   \n",
      "\n",
      "                       alcohol   quality  goodquality  \n",
      "fixed acidity        -0.061668  0.124052     0.095093  \n",
      "volatile acidity     -0.202288 -0.390558    -0.321441  \n",
      "citric acid           0.109903  0.226373     0.159129  \n",
      "residual sugar        0.042075  0.013732    -0.002160  \n",
      "chlorides            -0.221141 -0.128907    -0.109494  \n",
      "free sulfur dioxide  -0.069408 -0.050656    -0.061757  \n",
      "total sulfur dioxide -0.205654 -0.185100    -0.231963  \n",
      "density              -0.496180 -0.174919    -0.159110  \n",
      "pH                    0.205633 -0.057731    -0.003264  \n",
      "sulphates             0.093595  0.251397     0.218072  \n",
      "alcohol               1.000000  0.476166     0.434751  \n",
      "quality               0.476166  1.000000     0.848279  \n",
      "goodquality           0.434751  0.848279     1.000000  \n",
      "StandardScaler()\n",
      "[[ 0.03570115  1.17013908 -0.82797173 ... -0.77068411  0.91195248\n",
      "  -0.75660071]\n",
      " [-0.42519441 -0.54734879  0.09751438 ...  0.59078753 -0.10608706\n",
      "  -0.85048089]\n",
      " [ 0.03570115  0.16145573 -1.18788299 ... -0.57618817 -1.2372421\n",
      "  -0.75660071]\n",
      " ...\n",
      " [-0.25235857  0.21597915  0.20034617 ... -0.12236428  0.1767017\n",
      "  -0.85048089]\n",
      " [ 2.68585058 -0.32925509  1.12583228 ... -0.0575323   0.12014395\n",
      "   2.15368509]\n",
      " [ 0.84226836  2.45143956  0.25176207 ... -0.38169222 -1.01101109\n",
      "  -0.94436108]]\n"
     ]
    }
   ],
   "source": [
    "\n",
    "print(df.corr())\n",
    "\n",
    "x_train,x_test,y_train,y_test = train_test_split(x,y,test_size=0.25,random_state=0)\n",
    "scaler = StandardScaler().fit(x_train)\n",
    "print(scaler)\n",
    "\n",
    "x_scaled = scaler.transform(x_train)\n",
    "print(x_scaled)"
   ]
  },
  {
   "cell_type": "code",
   "execution_count": 4,
   "metadata": {},
   "outputs": [
    {
     "name": "stdout",
     "output_type": "stream",
     "text": [
      "Accuracy at  1  is  100.0\n",
      "Accuracy at  2  is  87.65638031693076\n",
      "Accuracy at  3  is  86.07172643869892\n",
      "Accuracy at  4  is  82.98582151793161\n",
      "Accuracy at  5  is  82.40200166805671\n",
      "Accuracy at  6  is  80.98415346121767\n",
      "Accuracy at  7  is  79.81651376146789\n",
      "Accuracy at  8  is  79.8999165971643\n",
      "Accuracy at  9  is  79.06588824020017\n",
      "Accuracy at  10  is  78.73227689741451\n",
      "Accuracy at  11  is  78.31526271893244\n",
      "Accuracy at  12  is  77.73144286905755\n",
      "Accuracy at  13  is  77.31442869057548\n",
      "Accuracy at  14  is  78.14845704753962\n",
      "Accuracy at  15  is  77.73144286905755\n",
      "Accuracy at  16  is  78.23185988323603\n",
      "Accuracy at  17  is  76.56380316930776\n",
      "Accuracy at  18  is  77.56463719766472\n",
      "Accuracy at  19  is  75.89658048373644\n",
      "Accuracy at  20  is  76.64720600500416\n",
      "Accuracy at  21  is  75.97998331943286\n",
      "Accuracy at  22  is  76.39699749791492\n",
      "Accuracy at  23  is  75.5629691409508\n",
      "Accuracy at  24  is  76.56380316930776\n",
      "Accuracy at  25  is  76.06338615512928\n",
      "Accuracy at  26  is  76.48040033361134\n",
      "Accuracy at  27  is  76.39699749791492\n",
      "Accuracy at  28  is  76.56380316930776\n",
      "Accuracy at  29  is  75.97998331943286\n",
      "Accuracy at  30  is  75.39616346955796\n",
      "Accuracy at  31  is  75.14595496246872\n",
      "Accuracy at  32  is  75.47956630525438\n",
      "Accuracy at  33  is  74.395329441201\n",
      "Accuracy at  34  is  74.47873227689742\n",
      "Accuracy at  35  is  73.56130108423686\n",
      "Accuracy at  36  is  73.81150959132611\n",
      "Accuracy at  37  is  73.7281067556297\n",
      "Accuracy at  38  is  74.22852376980818\n",
      "Accuracy at  39  is  74.06171809841534\n",
      "Accuracy at  40  is  74.47873227689742\n",
      "Accuracy at  41  is  74.72894078398666\n",
      "Accuracy at  42  is  74.56213511259384\n",
      "Accuracy at  43  is  74.64553794829024\n",
      "Accuracy at  44  is  74.395329441201\n",
      "Accuracy at  45  is  74.64553794829024\n",
      "Accuracy at  46  is  74.72894078398666\n",
      "Accuracy at  47  is  75.14595496246872\n",
      "Accuracy at  48  is  75.31276063386156\n",
      "Accuracy at  49  is  75.14595496246872\n",
      "Accuracy at  50  is  75.14595496246872\n",
      "Accuracy at  51  is  75.97998331943286\n",
      "Accuracy at  52  is  75.31276063386156\n",
      "Accuracy at  53  is  75.31276063386156\n",
      "Accuracy at  54  is  74.9791492910759\n",
      "Accuracy at  55  is  75.39616346955796\n",
      "Accuracy at  56  is  74.81234361968306\n",
      "Accuracy at  57  is  75.5629691409508\n",
      "Accuracy at  58  is  75.6463719766472\n",
      "Accuracy at  59  is  75.22935779816514\n",
      "Accuracy at  60  is  75.31276063386156\n",
      "Accuracy at  61  is  74.64553794829024\n",
      "Accuracy at  62  is  75.0625521267723\n",
      "Accuracy at  63  is  75.0625521267723\n",
      "Accuracy at  64  is  75.31276063386156\n",
      "Accuracy at  65  is  75.0625521267723\n",
      "Accuracy at  66  is  75.22935779816514\n",
      "Accuracy at  67  is  75.31276063386156\n",
      "Accuracy at  68  is  74.64553794829024\n",
      "Accuracy at  69  is  74.395329441201\n",
      "Best accuracy:  1\n"
     ]
    }
   ],
   "source": [
    "from sklearn.neighbors import KNeighborsClassifier\n",
    "best_acc = 0\n",
    "for k in range(1,70):\n",
    "    knn = KNeighborsClassifier(n_neighbors=k)\n",
    "    knn.fit(x_train,y_train)\n",
    "    train_score = knn.score(x_train,y_train)\n",
    "    if train_score > best_acc:\n",
    "        best_acc = train_score\n",
    "        best_k= k\n",
    "    print(\"Accuracy at \",k,\" is \",100*knn.score(x_train,y_train))\n",
    "print(\"Best accuracy: \",best_k)\n"
   ]
  },
  {
   "cell_type": "code",
   "execution_count": 5,
   "metadata": {},
   "outputs": [
    {
     "name": "stdout",
     "output_type": "stream",
     "text": [
      "accuracy:  74.4 %\n"
     ]
    }
   ],
   "source": [
    "knn = KNeighborsClassifier(n_neighbors=75)\n",
    "knn.fit(x_train,y_train)\n",
    "train_score_knn = knn.score(x_train,y_train)\n",
    "\n",
    "print(\"accuracy: \",round(100*train_score_knn,2),\"%\")"
   ]
  },
  {
   "cell_type": "code",
   "execution_count": 6,
   "metadata": {},
   "outputs": [
    {
     "name": "stdout",
     "output_type": "stream",
     "text": [
      "[0.684375   0.690625   0.7125     0.721875   0.65830721]\n"
     ]
    },
    {
     "data": {
      "image/png": "[encoded data removed]",
      "text/plain": [
       "<Figure size 432x288 with 1 Axes>"
      ]
     },
     "metadata": {
      "needs_background": "light"
     },
     "output_type": "display_data"
    }
   ],
   "source": [
    "from sklearn.model_selection import cross_val_score\n",
    "knn = KNeighborsClassifier(n_neighbors=10)\n",
    "scores = cross_val_score(knn, x, y, cv=5, scoring='accuracy')\n",
    "print(scores)\n",
    "\n",
    "k_scores =[]\n",
    "for k_number in range(1,100):\n",
    "    knn = KNeighborsClassifier(n_neighbors=k_number)\n",
    "    scores = cross_val_score(knn, x, y, cv=10, scoring='accuracy')\n",
    "    k_scores.append(scores.mean())\n",
    "\n",
    "plt.plot(range(1,100),k_scores)\n",
    "plt.xlabel('Value of K for KNN')\n",
    "plt.ylabel('Cross-validation Accuracy')\n",
    "plt.show()"
   ]
  },
  {
   "cell_type": "code",
   "execution_count": 8,
   "metadata": {},
   "outputs": [
    {
     "name": "stdout",
     "output_type": "stream",
     "text": [
      "               Pred Negative  Pred Positive\n",
      "True Negative            124             61\n",
      "true Positive             43            172\n"
     ]
    }
   ],
   "source": [
    "knn.fit(x_train,y_train)\n",
    "y_pred = np.array(knn.predict(x_test))\n",
    "\n",
    "from sklearn.metrics import confusion_matrix\n",
    "\n",
    "conf_mat = pd.DataFrame(confusion_matrix(y_test,y_pred)\n",
    "            ,columns=[\"Pred Negative\",\"Pred Positive\"]\n",
    "            ,index=[\"True Negative\",\"true Positive\"])\n",
    "print(conf_mat)"
   ]
  },
  {
   "cell_type": "code",
   "execution_count": 11,
   "metadata": {},
   "outputs": [
    {
     "name": "stdout",
     "output_type": "stream",
     "text": [
      "Accuracy : 0.74\n",
      "Precision: 0.738\n",
      "recall   : 0.8\n",
      "F1 score : 0.768\n"
     ]
    }
   ],
   "source": [
    "tn, fp, fn, tp = confusion_matrix(y_test,y_pred).ravel()\n",
    "accuracy = round((tn+tp)/(tn+tp+fn+fp),3)\n",
    "print(\"Accuracy :\",accuracy)\n",
    "\n",
    "precision = round((tp)/(tp+fp),3)\n",
    "print(\"Precision:\",precision)\n",
    "\n",
    "recall = round((tp)/(tp+fn),4)\n",
    "print(\"recall   :\",recall)\n",
    "\n",
    "f1 = round(2*(precision*recall) / (precision+recall), 3)\n",
    "print(\"F1 score :\",f1)\n",
    "\n"
   ]
  },
  {
   "cell_type": "code",
   "execution_count": null,
   "metadata": {},
   "outputs": [],
   "source": []
  }
 ],
 "metadata": {
  "kernelspec": {
   "display_name": "Python 3.9.2 64-bit",
   "language": "python",
   "name": "python3"
  },
  "language_info": {
   "codemirror_mode": {
    "name": "ipython",
    "version": 3
   },
   "file_extension": ".py",
   "mimetype": "text/x-python",
   "name": "python",
   "nbconvert_exporter": "python",
   "pygments_lexer": "ipython3",
   "version": "3.9.2"
  },
  "orig_nbformat": 4,
  "vscode": {
   "interpreter": {
    "hash": "5fe27231fe2ef1d38017a65482f94e9b5209ec85932d25724d84ecd1b3a19fa4"
   }
  }
 },
 "nbformat": 4,
 "nbformat_minor": 2
}

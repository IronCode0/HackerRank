{
 "cells": [
  {
   "cell_type": "markdown",
   "metadata": {},
   "source": [
    "# Simple and Multiple Linear Regression"
   ]
  },
  {
   "cell_type": "code",
   "execution_count": 11,
   "metadata": {},
   "outputs": [],
   "source": [
    "import pandas as pd\n",
    "import matplotlib.pyplot as plt\n",
    "import pickle\n",
    "import os\n",
    "from sklearn.model_selection import train_test_split\n",
    "from sklearn.linear_model import LinearRegression\n",
    "from sklearn.metrics import r2_score\n",
    "# %matplotlib inline\n",
    "\n",
    "data = pd.read_csv(\"..\\\\datasets\\\\Advertising_data.csv\")\n"
   ]
  },
  {
   "cell_type": "markdown",
   "metadata": {},
   "source": [
    "*Simple Linear Regression*"
   ]
  },
  {
   "cell_type": "code",
   "execution_count": null,
   "metadata": {},
   "outputs": [],
   "source": [
    "X = data['TV'].values\n",
    "X.shape\n",
    "X = data['TV'].values.reshape(-1,1)\n",
    "X.shape\n",
    "X.ndim\n",
    "\n",
    "y = data['Sales'].values.reshape(-1,1)\n",
    "plt.figure(figsize=(16,8))\n",
    "plt.scatter(X, y, c='black')\n",
    "plt.xlabel((\"Money spent on TV ads ($)\"))\n",
    "plt.ylabel(\"Sales ($)\")\n",
    "plt.show()\n",
    "\n",
    "# Splitting our data sets to training and testing dataset\n",
    "x_train,x_test,y_train,y_test = train_test_split(X,y,test_size=0.2,random_state=42)\n",
    "\n",
    "reg = LinearRegression()\n",
    "reg.fit(x_train, y_train)\n",
    "\n",
    "y_pred = reg.predict((x_test))\n",
    "plt.figure(figsize=(16,8))\n",
    "plt.scatter(X,y,c='black')\n",
    "plt.plot(x_test, y_pred, c='blue', linewidth=2)\n",
    "plt.xlabel((\"Money spent on TV ads ($)\"))\n",
    "plt.ylabel(\"Sales ($)\")\n",
    "plt.show()\n",
    "\n",
    "# Calculating the coefficients\n",
    "print(reg.coef_, reg.intercept_)\n",
    "\n",
    "# Calculating the R square value\n",
    "print(r2_score(y_test,y_pred))\n",
    "\n",
    "print(reg.predict([[230.1]]))\n"
   ]
  },
  {
   "cell_type": "markdown",
   "metadata": {},
   "source": [
    "*Multiple Linear Regression*"
   ]
  },
  {
   "cell_type": "code",
   "execution_count": null,
   "metadata": {},
   "outputs": [],
   "source": [
    "x = data.drop(['Sales'],axis=1)\n",
    "y = data['Sales'].values.reshape(-1,1)\n",
    "\n",
    "# Splitting our data sets to training and testing dataset\n",
    "x_train,x_test,y_train,y_test = train_test_split(x,y,test_size=0.2,random_state=42)\n",
    "\n",
    "\n",
    "multi_reg = LinearRegression()\n",
    "multi_reg.fit(x_train, y_train)\n",
    "y_pred = multi_reg.predict((x_test))\n",
    "\n",
    "# Calculating the coefficients\n",
    "print(reg.coef_, reg.intercept_)\n",
    "\n",
    "# Calculating the R square value\n",
    "print(r2_score(y_test,y_pred))\n",
    "\n",
    "tv = float(3456)\n",
    "radio = float(2341)\n",
    "newspaper = float(4567)\n",
    "\n",
    "print(multi_reg.predict([[0,tv,radio,newspaper]]))\n"
   ]
  },
  {
   "cell_type": "code",
   "execution_count": null,
   "metadata": {},
   "outputs": [],
   "source": [
    "# Saving the model\n",
    "if not os.path.exists('models'):\n",
    "    os.makedirs('models')\n",
    "MODEL_PATH = \"model/mult_reg.sav\"\n",
    "pickle.dump(multi_reg,open(MODEL_PATH, 'wb'))"
   ]
  }
 ],
 "metadata": {
  "kernelspec": {
   "display_name": "Python 3.9.2 64-bit",
   "language": "python",
   "name": "python3"
  },
  "language_info": {
   "codemirror_mode": {
    "name": "ipython",
    "version": 3
   },
   "file_extension": ".py",
   "mimetype": "text/x-python",
   "name": "python",
   "nbconvert_exporter": "python",
   "pygments_lexer": "ipython3",
   "version": "3.9.2"
  },
  "orig_nbformat": 4,
  "vscode": {
   "interpreter": {
    "hash": "5fe27231fe2ef1d38017a65482f94e9b5209ec85932d25724d84ecd1b3a19fa4"
   }
  }
 },
 "nbformat": 4,
 "nbformat_minor": 2
}
